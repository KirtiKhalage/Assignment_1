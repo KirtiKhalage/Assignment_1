{
 "cells": [
  {
   "cell_type": "markdown",
   "id": "232cde3b",
   "metadata": {},
   "source": [
    "#    Q.1.Write a Python program to get the Fibonacci series between 0 to 50"
   ]
  },
  {
   "cell_type": "code",
   "execution_count": 4,
   "id": "5edfd844",
   "metadata": {},
   "outputs": [
    {
     "name": "stdout",
     "output_type": "stream",
     "text": [
      "Enter the Starting number:0\n",
      "Enter the Ending number:50\n",
      "The Fibonacci series between 0 and 50 is:\n",
      "0 1 1 2 3 5 8 13 21 34 "
     ]
    }
   ],
   "source": [
    "Start_val = int(input(\"Enter the Starting number:\" ))\n",
    "End_val = int(input(\"Enter the Ending number:\" ))\n",
    "if Start_val < 0 or End_val < 0:\n",
    "    print(\"Please enter a valid number\")\n",
    "else:\n",
    "    f_num = 0\n",
    "    s_num = 1\n",
    "    sum = 0\n",
    "    print(\"The Fibonacci series between\",Start_val,\"and\",End_val,\"is:\")\n",
    "    while(sum < End_val):\n",
    "        f_num = s_num\n",
    "        s_num = sum\n",
    "        sum = f_num + s_num\n",
    "        print(s_num,end = \" \")\n",
    "\n",
    "        \n",
    "    "
   ]
  },
  {
   "cell_type": "markdown",
   "id": "d5c49eac",
   "metadata": {},
   "source": [
    "# Q.2. Write a Python program that accepts a word from the user and reverse it."
   ]
  },
  {
   "cell_type": "code",
   "execution_count": 5,
   "id": "a46309fe",
   "metadata": {},
   "outputs": [
    {
     "name": "stdout",
     "output_type": "stream",
     "text": [
      "Enter a word that need to be reversed:Edyoda\n",
      " adoydE\n"
     ]
    }
   ],
   "source": [
    "Word = input(\"Enter a word that need to be reversed:\")\n",
    "i = len(Word)-1\n",
    "rev = \" \"\n",
    "while (i >= 0):\n",
    "    rev = rev + Word[i]\n",
    "    i = i-1\n",
    "print(rev)"
   ]
  },
  {
   "cell_type": "markdown",
   "id": "7c700dd1",
   "metadata": {},
   "source": [
    "#  Q.3.Write a Python program to count the number of even and odd numbers from a series of numbers."
   ]
  },
  {
   "cell_type": "code",
   "execution_count": 29,
   "id": "7ee31c4c",
   "metadata": {},
   "outputs": [
    {
     "name": "stdout",
     "output_type": "stream",
     "text": [
      "Enter the numbers:(1,2,3,4,5,6,7,8,9)\n",
      "Number of even numbers: 4\n",
      "Number of odd numbers: 5\n"
     ]
    }
   ],
   "source": [
    "Numbers = eval(input(\"Enter the numbers:\"))\n",
    "even_count = 0\n",
    "odd_count = 0\n",
    "for i in Numbers:\n",
    "    if i%2 == 0:\n",
    "        even_count = even_count+1\n",
    "    else:\n",
    "        odd_count = odd_count+1\n",
    "print(\"Number of even numbers:\",even_count)\n",
    "print(\"Number of odd numbers:\",odd_count)  "
   ]
  }
 ],
 "metadata": {
  "kernelspec": {
   "display_name": "Python 3 (ipykernel)",
   "language": "python",
   "name": "python3"
  },
  "language_info": {
   "codemirror_mode": {
    "name": "ipython",
    "version": 3
   },
   "file_extension": ".py",
   "mimetype": "text/x-python",
   "name": "python",
   "nbconvert_exporter": "python",
   "pygments_lexer": "ipython3",
   "version": "3.9.13"
  }
 },
 "nbformat": 4,
 "nbformat_minor": 5
}
